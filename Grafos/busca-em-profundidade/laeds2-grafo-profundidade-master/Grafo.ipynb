{
 "cells": [
  {
   "cell_type": "markdown",
   "metadata": {},
   "source": [
    "**Integrantes: Carlos Ivis e Victor Le Roy**"
   ]
  },
  {
   "cell_type": "markdown",
   "metadata": {},
   "source": [
    "Nas próximas atividades trabalharemos com grafos. Usaremos o grafo da imagem a seguir para exemplificar como suas componentes seriam representadas em código."
   ]
  },
  {
   "cell_type": "markdown",
   "metadata": {},
   "source": [
    "<img src=\"imgs/grafo.png\">\n",
    "Fonte: https://www.geeksforgeeks.org/graph-implementation-using-stl-for-competitive-programming-set-2-weighted-graph/"
   ]
  },
  {
   "cell_type": "markdown",
   "metadata": {},
   "source": [
    "**Vértices:** nessa atividade, os vértices são representados por uma instância da classe _vértice_, que contem o valor ou nome do vértice e um dicionário que contém tuplas $(v, p)$, sendo $v$ o vértice vizinho e $p$ o peso da aresta que liga os respectivos vértices. Os métodos já implementados na classe vértice são os seguintes:"
   ]
  },
  {
   "cell_type": "markdown",
   "metadata": {},
   "source": [
    "- `insere`: recebe o vértice vizinho e o peso da aresta que liga os dois vértices\n",
    "- `obtem_valor`: retorna o valor/nome do vértice"
   ]
  },
  {
   "cell_type": "markdown",
   "metadata": {},
   "source": [
    "O vértice $0$ teria as seguintes propriedades:\n",
    "\n",
    "- `valor`= 0\n",
    "- `adjacencias`= { Vertice(1): 10, Vertice(2) : 3, Vertice(3): 2 }"
   ]
  },
  {
   "cell_type": "markdown",
   "metadata": {},
   "source": [
    "Já o vértice $3$ teria as seguintes propriedades:\n",
    "- `valor`=3\n",
    "- `adjacencias`= {}"
   ]
  },
  {
   "cell_type": "markdown",
   "metadata": {},
   "source": [
    "**Grafo:** o grafo é representado como um dicionário que contém tuplas $(n, v)$, sendo $n$ o nome/valor do vértice e $v$ a instância do vértice. Os métodos já implementados na classe grafo são:"
   ]
  },
  {
   "cell_type": "markdown",
   "metadata": {},
   "source": [
    "- `adiciona_vertice`: cria um novo vértice no grafo com o nome/valor passado como parâmetro\n",
    "- `adiciona_aresta`: cria uma aresta direcionada de $v1$ para $v2$ com o peso $p$, sendo $v1$ o vértice que corresponde ao valor passado no primeiro parâmetro, $v2$ o vértice que corresponde ao valor passado no segundo parâmetro e $p$ o terceiro parâmetro\n",
    "- `obtem_vertice`: retorna o vértice correspondente ao valor passado como parâmetro, caso ele exista"
   ]
  },
  {
   "cell_type": "markdown",
   "metadata": {},
   "source": [
    "Esse grafo teria a seguinte propriedade:\n",
    "- `vertices` = { 0: Vertice(0), 1: Vertice(1), 2: Vertice(2), 3: Vertice(3) }"
   ]
  },
  {
   "attachments": {
    "image.png": {
     "image/png": "[encoded data removed]"
    }
   },
   "cell_type": "markdown",
   "metadata": {},
   "source": [
    "**Exemplo**: Para construir o grafo abaixo no código, considerando todas as arestas com peso 2, seriam necessários os comandos a seguir:\n",
    "![image.png](attachment:image.png)\n",
    "Fonte: https://hazelcast.com/glossary/directed-acyclic-graph/\n"
   ]
  },
  {
   "cell_type": "code",
   "execution_count": 1,
   "metadata": {},
   "outputs": [],
   "source": [
    "from grafo import Grafo\n",
    "\n",
    "grafo = Grafo()\n",
    "\n",
    "grafo.adiciona_vertice(1)\n",
    "grafo.adiciona_vertice(2)\n",
    "grafo.adiciona_vertice(3)\n",
    "grafo.adiciona_vertice(4)\n",
    "grafo.adiciona_vertice(5)\n",
    "\n",
    "grafo.adiciona_aresta(1, 2, 2)\n",
    "grafo.adiciona_aresta(1, 3, 2)\n",
    "grafo.adiciona_aresta(2, 4, 2)\n",
    "grafo.adiciona_aresta(2, 5, 2)"
   ]
  },
  {
   "cell_type": "markdown",
   "metadata": {},
   "source": [
    "**Atividade 1 - grafos acíclicos dirigidos**: os grafos acíclicos dirigidos, ou DAGS, são grafos direcionados que não apresentam nenhum ciclo. Nessa atividade, usando a ideia da busca em profundidade você deve implementar o método `e_um_dag` na classe Grafo, que não recebe parâmetros e deve retornar um booleano indicando se o grafo é acíclico. Veja que o comando abaixo executa o teste unitário presente no arquivo `grafo_teste.py`. Analise-o para entender como implementamos testes unitários. Dica: você pode criar funções auxiliares para te ajudar nessa atividade. "
   ]
  },
  {
   "cell_type": "markdown",
   "metadata": {},
   "source": [
    "Veja exemplos de grafos que são DAG e que não são:\n",
    "\n",
    "<img src=\"imgs/dag.png\">"
   ]
  },
  {
   "cell_type": "code",
   "execution_count": 2,
   "metadata": {},
   "outputs": [
    {
     "name": "stderr",
     "output_type": "stream",
     "text": [
      ".\n",
      "----------------------------------------------------------------------\n",
      "Ran 1 test in 0.000s\n",
      "\n",
      "OK\n"
     ]
    }
   ],
   "source": [
    "!python -m grafo_teste TestNode.teste_e_um_dag"
   ]
  },
  {
   "cell_type": "markdown",
   "metadata": {},
   "source": [
    "**Atividade 2 - ordenação topológica:** A ordenação topológica serve para ordenar os nós, de forma que, se existe uma aresta $(v_1, v_2)$, então $v_1$ precede $v_2$ na ordenação. Caso tenha dúvidas, consulte os slides em https://docs.google.com/presentation/d/1m8qbDo1Q3QTxm1t68RBRPR2Uf-D-N6QqxBq5qOCy7og/edit?usp=sharing.\n",
    "\n",
    "Por exemplo: considere cada matéria da faculdade como um vértice. Para fazer determinadas matérias, é necessario que você já tenha previamente cursado outras (para cursar LAED2 você já deve ter cursado AED1 e LAED1). Considere que existe uma aresta que sai do curso que é pré-requisito e chega no curso que a tem como pré-requisito. Existiria então uma aresta $(AED1, LAED2)$ e uma aresta $(LAED1, LAED2)$. Ao ordenar topológicamente essas matérias, como uma forma de saber uma possível ordem para cursá-las, o algoritmo apresentaria uma ordem onde necessáriamente AED1 e LAED1 apareceriam antes de LAED2.\n",
    "\n",
    "Imagine que você é coordenador do curso e quer ajudar seus alunos mostrando a eles uma possível ordem de curso das matérias que eles devem fazer. Você deve implementar o método `ordenacao_topologica` na classe Grafo, que não recebe parâmetros e retorna uma lista com a ordenação topológica com os valores de cada nodo ordenado. Para validar o método, execute o teste unitário a seguir. Veja que o comando abaixo executa o teste unitário presente no arquivo `grafo_teste.py`. Analise-o para entender como implementamos testes unitários. Dica: você pode criar funções auxiliares para te ajudar nessa atividade. \n",
    "\n",
    "Este método deve retornar a lista de valores dos vértices ordenados. Por exemplo, caso tenhamos como resposta: `[Vertice(4),Vertice(10), Vertice(12)]` o método retornará o seguinte vetor: `[4,10,12]`."
   ]
  },
  {
   "cell_type": "code",
   "execution_count": 3,
   "metadata": {},
   "outputs": [
    {
     "name": "stderr",
     "output_type": "stream",
     "text": [
      ".\n",
      "----------------------------------------------------------------------\n",
      "Ran 1 test in 0.000s\n",
      "\n",
      "OK\n"
     ]
    }
   ],
   "source": [
    "!python -m grafo_teste TestNode.teste_ordenacao_topologica"
   ]
  },
  {
   "cell_type": "markdown",
   "metadata": {},
   "source": [
    "Logo após, faça um teste abaixo apresentando um grafo de disciplinas e prérequisitos e imprimindo, logo após, uma ordem para fazer tais disciplinas. "
   ]
  },
  {
   "cell_type": "code",
   "execution_count": 4,
   "metadata": {
    "scrolled": true
   },
   "outputs": [
    {
     "name": "stdout",
     "output_type": "stream",
     "text": [
      "Lista ordenada:[ LabPC1 PC1 LabPC2 PC2 LAED1 AED1 LAED2 AED2 ]\n"
     ]
    }
   ],
   "source": [
    "from grafo import Grafo\n",
    "#Laboratorios dependem apenas da materia teorica, para nao criar ciclo\n",
    "#Index equivalentes aos vertices, por exemplo, Mat.Discreta = Vertice(0)\n",
    "lista_materia = [None, \"PC1\", \"LabPC1\", \"PC2\", \"LabPC2\", \"AED1\", \"LAED1\", \"AED2\", \"LAED2\"]\n",
    "#                  0     1        2       3        4       5        6        7       8  \n",
    "grafo = Grafo()\n",
    "\n",
    "grafo.adiciona_vertice(1)\n",
    "grafo.adiciona_vertice(2)\n",
    "grafo.adiciona_vertice(3)\n",
    "grafo.adiciona_vertice(4)\n",
    "grafo.adiciona_vertice(5)\n",
    "grafo.adiciona_vertice(6)\n",
    "grafo.adiciona_vertice(7)\n",
    "grafo.adiciona_vertice(8)\n",
    "\n",
    "grafo.adiciona_aresta(1, 3)\n",
    "grafo.adiciona_aresta(1, 4)\n",
    "grafo.adiciona_aresta(2, 3)\n",
    "grafo.adiciona_aresta(2, 4)\n",
    "grafo.adiciona_aresta(3, 5)\n",
    "grafo.adiciona_aresta(3, 6)\n",
    "grafo.adiciona_aresta(4, 5)\n",
    "grafo.adiciona_aresta(4, 6)\n",
    "grafo.adiciona_aresta(5, 7)\n",
    "grafo.adiciona_aresta(5, 8)\n",
    "grafo.adiciona_aresta(6, 7)\n",
    "grafo.adiciona_aresta(6, 8)\n",
    "\n",
    "\n",
    "lista_ordenada = grafo.ordenacao_topologica()\n",
    "print(\"Lista ordenada:[\", end=\" \")\n",
    "for i in lista_ordenada:\n",
    "    print(lista_materia[i], end=\" \")\n",
    "print(\"]\")    \n",
    "#print(lista_ordenada)"
   ]
  }
 ],
 "metadata": {
  "kernelspec": {
   "display_name": "Python 3",
   "language": "python",
   "name": "python3"
  },
  "language_info": {
   "codemirror_mode": {
    "name": "ipython",
    "version": 3
   },
   "file_extension": ".py",
   "mimetype": "text/x-python",
   "name": "python",
   "nbconvert_exporter": "python",
   "pygments_lexer": "ipython3",
   "version": "3.9.1"
  }
 },
 "nbformat": 4,
 "nbformat_minor": 2
}
