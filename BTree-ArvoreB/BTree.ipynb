{
 "cells": [
  {
   "cell_type": "markdown",
   "id": "shaped-librarian",
   "metadata": {},
   "source": [
    "**Integrantes: Carlos Ivis e Victor Le Roy**"
   ]
  },
  {
   "cell_type": "markdown",
   "id": "concrete-technician",
   "metadata": {},
   "source": [
    "Nesta pratica foi realizado a implementacao de uma Arvore B. O programa consiste em uma classe BtNode que possui como atributos `leaf:bool`, para verificar se a pagina e' uma folha, `keys:list`, para guardar os registros das paginas e `childs:list`, para guardar os filhos respectivos de cada registro. A outra classe e' a implementacao da arvore e seus metodos (e seus respectivos metodos auxiliares)`print_tree`, `search_tree`, `insert_key` e `delete_key` e possui como atributos `root`, para guardar a raiz principal da arvore, `t` simbolizando a ordem da arvore e o valor maximo da arvore sendo `t*2`."
   ]
  },
  {
   "cell_type": "markdown",
   "id": "precious-board",
   "metadata": {},
   "source": [
    "Um exemplo de execucao da arvore de ordem 2 com os dados [15,1,10,9,3,7,50,6,2] :"
   ]
  },
  {
   "cell_type": "code",
   "execution_count": 1,
   "id": "alpine-storage",
   "metadata": {},
   "outputs": [
    {
     "name": "stdout",
     "output_type": "stream",
     "text": [
      "level:  0     [3, 9]\n",
      "level:  1     [1, 2]\n",
      "level:  1     [6, 7]\n",
      "level:  1     [10, 15, 50]\n"
     ]
    }
   ],
   "source": [
    "from tree import BTree\n",
    "keys = [15,1,10,9,3,7,50,6,2]\n",
    "arvore_b_ordem_2 = BTree(2)\n",
    "for i in keys:    \n",
    "    arvore_b_ordem_2.insert_key(i)\n",
    "arvore_b_ordem_2.print_tree()"
   ]
  },
  {
   "cell_type": "markdown",
   "id": "latter-bandwidth",
   "metadata": {},
   "source": [
    "Um exemplo de utilizacao da implementacao da arvore b e' o sistema de arquivos utilizados pela Apple HFS+, NTFS da Microsoft, AIX (JFS2) e alguns sistemas de arquivos Linux, como btrfs e Ext4"
   ]
  },
  {
   "cell_type": "markdown",
   "id": "typical-assist",
   "metadata": {},
   "source": [
    "Esta implementacao teve como base o estudo do livro \"Introduction to Algorithms 3rd edition\" do Thomas H. Cormen e, alem disso, utilizando como base de estudo o simulador da UFSCA, alem de outros sites e aulas do professor Marcos Andre Silveira no youtube."
   ]
  },
  {
   "cell_type": "markdown",
   "id": "afraid-potato",
   "metadata": {},
   "source": [
    "**Links:**\n",
    "- `Simulador -` https://www.cs.usfca.edu/~galles/visualization/BTree.html /\n",
    "- `Programiz -` https://www.programiz.com/dsa/b-tree /\n",
    "- `Wikipedia -` https://pt.wikipedia.org/wiki/Árvore_B / \n",
    "- `Prof. Marcos -` https://www.youtube.com/c/MarcosAndréSilveiraKutova /\n",
    "- `Ufg -` https://ww2.inf.ufg.br/~eduardo/ed2/ArvoreB.pdf /\n",
    "- `USP -` https://www.ime.usp.br/~pf/estruturas-de-dados/aulas/B-trees.html /"
   ]
  },
  {
   "cell_type": "markdown",
   "id": "restricted-journalism",
   "metadata": {},
   "source": [
    "**Teste de insercao na arvore** - Neste teste, vamos realizar a insercao de elementos em uma arvore de ordem 2. O metodo de insercao funciona procurando a posicao correta onde deve-se inserir a chave que desejamos, para isso, comparamos a chave recebida pela funcao com os registros atuais dentro da arvore ate encontrar a posicao correta e, a cada vez que chamamos recursivamente a funcao, verificamos se o filho onde a chave deve ser inserida esta cheia para, assim, realizarmos o comando de dividir os filhos e consequentemente aumentar o tamanho da arvore."
   ]
  },
  {
   "cell_type": "code",
   "execution_count": 2,
   "id": "nervous-mexican",
   "metadata": {},
   "outputs": [
    {
     "name": "stderr",
     "output_type": "stream",
     "text": [
      ".\n",
      "----------------------------------------------------------------------\n",
      "Ran 1 test in 0.000s\n",
      "\n",
      "OK\n"
     ]
    }
   ],
   "source": [
    "!python -m tree_test TestNode.teste_insercao"
   ]
  },
  {
   "cell_type": "markdown",
   "id": "cathedral-chambers",
   "metadata": {},
   "source": [
    "**Teste de procura na arvore** - Neste teste, pesquisamos em uma arvore de ordem 2 para verificar a existencia ou nao de certos valores em suas paginas. O metodo de pesquisa funciona verificando se a chave recebida e' menor do que alguma chave da pagina, caso seja, passamos para o filho mais proximo da posicao em que a chave e' menor e refazemos o processo ate encontrarmos a chave desejada. Se a chave que desejamos procurar for maior que os registros da pagina, entramos no ultimo filho a direita do ultimo registro da pagina, pois isso demonstra que a chave e' maior que todas os registros desta pagina. Caso seja encontrado, recebemos o node onde esta chave esta e sua respectiva posicao, caso contrario, recebemos None."
   ]
  },
  {
   "cell_type": "code",
   "execution_count": 3,
   "id": "killing-future",
   "metadata": {},
   "outputs": [
    {
     "name": "stderr",
     "output_type": "stream",
     "text": [
      ".\n",
      "----------------------------------------------------------------------\n",
      "Ran 1 test in 0.000s\n",
      "\n",
      "OK\n"
     ]
    }
   ],
   "source": [
    "!python -m tree_test TestNode.teste_pesquisa"
   ]
  },
  {
   "cell_type": "markdown",
   "id": "solar-calvin",
   "metadata": {},
   "source": [
    "**Teste de delecao na arvore** - Neste teste, retiramos elementos da arvore 2. O metodo de remover um elemento e' o mais complicado de ser implementado, pois possui diversos casos que podem acontecer com a remocao de uma chave. Ele funciona, primeiramente procurando pela chave, para ver se esta existe na arvore e, caso seja encontrada, a removemos da arvore e realizamos os devidos procedimentos para manter a arvore correta. Estes procedimentos podem ser de \"juntar\" dois filhos, por exemplo, caso a chave removida ou realocada seja a ultima de uma pagina, ou de realocar registros de outros filhos para manter a arvore balanceada. "
   ]
  },
  {
   "cell_type": "code",
   "execution_count": 4,
   "id": "thermal-thumbnail",
   "metadata": {},
   "outputs": [
    {
     "name": "stderr",
     "output_type": "stream",
     "text": [
      ".\n",
      "----------------------------------------------------------------------\n",
      "Ran 1 test in 0.000s\n",
      "\n",
      "OK\n"
     ]
    }
   ],
   "source": [
    "!python -m tree_test TestNode.teste_delecao"
   ]
  }
 ],
 "metadata": {
  "kernelspec": {
   "display_name": "Python 3",
   "language": "python",
   "name": "python3"
  },
  "language_info": {
   "codemirror_mode": {
    "name": "ipython",
    "version": 3
   },
   "file_extension": ".py",
   "mimetype": "text/x-python",
   "name": "python",
   "nbconvert_exporter": "python",
   "pygments_lexer": "ipython3",
   "version": "3.9.1"
  }
 },
 "nbformat": 4,
 "nbformat_minor": 5
}
