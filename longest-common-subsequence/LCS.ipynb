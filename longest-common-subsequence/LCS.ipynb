{
 "cells": [
  {
   "cell_type": "markdown",
   "metadata": {},
   "source": [
    "\n",
    "_**<h1>Maior Subsequência comum:</h1>**_ _Longest commom subsequence_ (LCS)\n",
    "\n",
    "\n",
    "\n"
   ]
  },
  {
   "cell_type": "markdown",
   "metadata": {},
   "source": [
    "_Nomes:_\n",
    "<ul>\n",
    "<li>Carlos Eduardo</li>\n",
    "<li>Julio Cesar Rocha</li>\n",
    "<li>Pablo Felipe</li>\n",
    "<li>Victor Le Roy</li>\n",
    "</ul>"
   ]
  },
  {
   "cell_type": "markdown",
   "metadata": {},
   "source": [
    "**Explicação do problema:**\n",
    "\n",
    "O problema da _\"maior subsequência comum\"_ como o próprio nome diz, trata-se de encontrar a maior subsequência comum entre duas ou mais sequências. É um problema clássico da computação resolvido a partir da comparação entre os dados/sequências. É bastante utilizado na área de _linguistica computacional_ (processamento de linguagem natural) e _bioinformática_(análise da sequencia  de DNA) \n",
    "\n",
    "<p align=\"center\">\n",
    "    <img src=\"img/exemplo1.png\">\n",
    "</p>\n",
    "<p style=\"text-align: center;\"> Fonte : https://en.wikipedia.org/wiki/Longest_common_subsequence_problem</p>\n",
    "\n",
    "<p>\n",
    "No exemplo acima temos duas sequências: \"this is some text that will be changed\" e \"this is the changed text\", colocando cada palavra em uma lista teremos as seguintes sequências de palavras:    \n",
    "   \n",
    "<kbd>[<span style=\"color:red\">**this**</span>,<span style=\"color:red\"> **is**</span>, some, text, that, will, be, <span style=\"color:red\">**changed**</span>]\n",
    "    \n",
    "<kbd>[<span style=\"color:red\">**this**</span>,<span style=\"color:red\"> **is**</span>, the,<span style=\"color:red\"> **changed**</span>, text]\n",
    "    \n",
    "Analisando rapidamente, podemos perceber que a maior subsequência de palavras comuns entre as duas sequências tem **tamanho 3** e é: \n",
    "    \n",
    "<kbd><span style=\"color:green\">      **this is changed**</span>       \n",
    "<p></p>"
   ]
  },
  {
   "cell_type": "markdown",
   "metadata": {},
   "source": [
    "**Solução do problema:**\n",
    "\n",
    "A partir da pesquisa em alguns sites sobre o problema escolhido, o grupo percebeu que a maneira mais eficaz de solucionar o problema seria a partir da criação de uma matriz que armazenaria uma valor X (contendo o atual valor do LCS/tamanho do LCS) para cada \"_match_\" entre as sequencias. O elemento que encontrou um \"_match_\" entre as sequências receberá sempre o valor da diagonal anterior \"matriz[i-1][j-1]\" + 1. Caso não tenha acontecido um \"_match_\" entre os items das sequências, então o elemento atual receberá o maior valor entre o elemento de sua esquerda ou o elemento acima.\n",
    "\n",
    "<p align=\"center\">\n",
    "<img src=\"img/exemplo2.png\">\n",
    "</p>\n",
    "\n",
    "<p style=\"text-align: center;\"> Fonte : https://www.youtube.com/watch?v=2brK-O2vB6M</p>\n",
    "\n",
    "Com a matriz preenchida, pegamos o valor de sua ultima posição que representará a maior sequência entre as duas strings a serem pesquisadas.\n"
   ]
  },
  {
   "cell_type": "markdown",
   "metadata": {},
   "source": [
    "**Bônus:** \n",
    "\n",
    "Como um bônus, criamos uma outra função para facilitar os testes automatizados, nesta funcão obtemos uma lista que possui a maior sequência como string. O funcionamento da função está descrito a seguir.\n",
    "\n",
    "<p> \n",
    "Com a matriz preenchida, criamos uma lista com o tamanho do LCS (descoberto a partir da ultima posição da matriz):\n",
    "    \n",
    "\n",
    "<kbd><span style=\"color:green\">      **LCS = [\"\"] * (tamanhho_LCS + 1)**</span>       \n",
    "<p></p>    \n",
    "\n",
    "Fazemos então uma análise partindo do ultimo elemento da matriz, em que, se o ultimo item de cada sequencia for igual, então, fazem parte do LCS, nisso, esse item é atribuido à ultima posição (posicão = tamanho_LCS) da lista criada anteriormente (LCS), após isso, diminuimos o valor da variavel \"_tamanho_LCS_\", pois já encontramos o elemento que ocupará a ultima posição, prosseguindo, diminuimos o valor das variaveis \"i\" e \"j\"  da matriz em 1 de tal forma que a matriz ande retrocedendo em sua diagonal principal, e fazemos novamente a análise, se os items são iguais, atribuimos esse item à lista (LCS) na posição \"tamanho_LCS\" (lembrando que a cada item que seja igual entra as duas sequencias, diminuimos o valor de \"tamano_LCS\" em 1). Caso os items entre as sequencias, sejam diferentes, procuramos no elemento de maior valor entre a esquerda e acima do elemento atual da matriz.\n",
    "</p> "
   ]
  },
  {
   "cell_type": "markdown",
   "metadata": {},
   "source": [
    "**Explicação do código:** \n",
    "\n",
    "Possuimos duas funções dentro da classe *LCS*. Na primeira, chamada *lcs*, recebemos duas strings (string_1 e string_2) que serão estudadas de modo a retornar a matriz criada e o tamanho da maior sequência comum entre as duas strings. Nesta função possuimos as variáveis `size_string_1`, `size_string_2` (ambas representando o tamanho das string recebidas), `lcs_matrix` (representando a matriz que criamos para encontrar o tamanho da sequência) e as `string_1` e `string_2` representando as strings recebidas. A segunda função, chamada *printing_lcs*, recebemos a matriz e ambas strings estudadas (lcs_matriz, string_1 e string_2) que serão percorridas de modo a retornar a maior sequência em forma de string. Nesta função, possuímos as variáveis `index` (representando a ultima posição da matriz), `size_string_1`, `size_string_2` (ambas representando o tamanho das string recebidas) e `lcs_solution` (representando uma lista contendo a string da maior sequência)."
   ]
  },
  {
   "cell_type": "markdown",
   "metadata": {},
   "source": [
    "**Caso teste maior tamanho:**\n",
    "\n",
    "Neste caso teste, vamos verificar se a função *lcs* retorna corretamente o tamanho da maior sequencia comum"
   ]
  },
  {
   "cell_type": "code",
   "execution_count": 1,
   "metadata": {
    "scrolled": true
   },
   "outputs": [
    {
     "name": "stderr",
     "output_type": "stream",
     "text": [
      ".\n",
      "----------------------------------------------------------------------\n",
      "Ran 1 test in 0.000s\n",
      "\n",
      "OK\n"
     ]
    }
   ],
   "source": [
    "!python -m lcs_test TestNode.lcs_test_tamanho"
   ]
  },
  {
   "cell_type": "markdown",
   "metadata": {},
   "source": [
    "**Caso teste retorno string:**\n",
    "\n",
    "Neste caso teste, vamos verificar se a funcao *printing_lcs* retorna corretamente a string que representa a maior sequencia"
   ]
  },
  {
   "cell_type": "code",
   "execution_count": 2,
   "metadata": {},
   "outputs": [
    {
     "name": "stderr",
     "output_type": "stream",
     "text": [
      ".\n",
      "----------------------------------------------------------------------\n",
      "Ran 1 test in 0.001s\n",
      "\n",
      "OK\n"
     ]
    }
   ],
   "source": [
    "!python -m lcs_test TestNode.lcs_test_string"
   ]
  },
  {
   "cell_type": "markdown",
   "metadata": {},
   "source": [
    "Esta implementacao teve como base o estudo do livro \"Introduction to Algorithms 3rd edition\" do Thomas H. Cormen e, alem disso, utilizando como base de estudo o simulador da UFSCA, alem de outros sites e aulas do professor Marcos Castro no youtube.\n",
    "\n",
    "**Links:**\n",
    "- `Simulador     -` https://www.cs.usfca.edu/~galles/visualization/DPLCS.html \n",
    "- `Programiz     -` https://www.programiz.com/dsa/longest-common-subsequence \n",
    "- `Wikipedia     -` https://en.wikipedia.org/wiki/Longest_common_subsequence_problem#Computing_the_length_of_the_LCS  \n",
    "- `Geeksforgeeks -` https://www.geeksforgeeks.org/longest-common-subsequence-dp-4/\n",
    "- `Unicamp       -` https://www.ic.unicamp.br/~miranda/bagunca/maratona/Enunciados_do_treino_1/10405.html \n",
    "- `Prof. Marcos  -` https://www.youtube.com/watch?v=2brK-O2vB6M"
   ]
  },
  {
   "cell_type": "markdown",
   "metadata": {},
   "source": [
    "**Link para apresentação:**\n",
    "\n",
    "[Clique aqui para acessar a apresentação e o pseudocódigo](https://docs.google.com/presentation/d/1EoGXBSL98EL4zozD2xKdUMrf4YMSh0zUVFDK9GRMY28/edit?usp=sharing)"
   ]
  }
 ],
 "metadata": {
  "kernelspec": {
   "display_name": "Python 3",
   "language": "python",
   "name": "python3"
  },
  "language_info": {
   "codemirror_mode": {
    "name": "ipython",
    "version": 3
   },
   "file_extension": ".py",
   "mimetype": "text/x-python",
   "name": "python",
   "nbconvert_exporter": "python",
   "pygments_lexer": "ipython3",
   "version": "3.9.1"
  }
 },
 "nbformat": 4,
 "nbformat_minor": 2
}
