{
 "cells": [
  {
   "cell_type": "markdown",
   "metadata": {},
   "source": [
    "Integrantes do grupo: Carlos Ivis e Victor Le Roy\n",
    "\n",
    "Antes de entregar, certifique-se que tenha executado todos os comandos/códigos deste Jupyter. É obrigatório que todas as saídas tenham sido apresentadas. Perda de 1 ponto caso não tenham feito isso. Qualquer linha de comando/código como a de baixo, você pode executá-la a selecionando e pressionando `ctrl+enter`."
   ]
  },
  {
   "cell_type": "code",
   "execution_count": null,
   "metadata": {},
   "outputs": [],
   "source": [
    "from trie import NoTrie"
   ]
  },
  {
   "cell_type": "markdown",
   "metadata": {},
   "source": [
    "Um exemplo de inserção manual das palavras \"casa\", \"caso\" e \"dado\":"
   ]
  },
  {
   "cell_type": "code",
   "execution_count": 1,
   "metadata": {},
   "outputs": [
    {
     "ename": "NameError",
     "evalue": "name 'NoTrie' is not defined",
     "output_type": "error",
     "traceback": [
      "\u001b[1;31m---------------------------------------------------------------------------\u001b[0m",
      "\u001b[1;31mNameError\u001b[0m                                 Traceback (most recent call last)",
      "\u001b[1;32m<ipython-input-1-ddc546bd53e1>\u001b[0m in \u001b[0;36m<module>\u001b[1;34m\u001b[0m\n\u001b[1;32m----> 1\u001b[1;33m \u001b[0mraiz\u001b[0m \u001b[1;33m=\u001b[0m \u001b[0mNoTrie\u001b[0m\u001b[1;33m(\u001b[0m\u001b[1;33m)\u001b[0m\u001b[1;33m\u001b[0m\u001b[1;33m\u001b[0m\u001b[0m\n\u001b[0m\u001b[0;32m      2\u001b[0m \u001b[0mraiz\u001b[0m\u001b[1;33m.\u001b[0m\u001b[0mfilhos\u001b[0m\u001b[1;33m[\u001b[0m\u001b[1;34m\"c\"\u001b[0m\u001b[1;33m]\u001b[0m \u001b[1;33m=\u001b[0m \u001b[0mNoTrie\u001b[0m\u001b[1;33m(\u001b[0m\u001b[1;34m\"c\"\u001b[0m\u001b[1;33m)\u001b[0m\u001b[1;33m\u001b[0m\u001b[1;33m\u001b[0m\u001b[0m\n\u001b[0;32m      3\u001b[0m \u001b[0mraiz\u001b[0m\u001b[1;33m.\u001b[0m\u001b[0mfilhos\u001b[0m\u001b[1;33m[\u001b[0m\u001b[1;34m\"c\"\u001b[0m\u001b[1;33m]\u001b[0m\u001b[1;33m.\u001b[0m\u001b[0mfilhos\u001b[0m\u001b[1;33m[\u001b[0m\u001b[1;34m\"a\"\u001b[0m\u001b[1;33m]\u001b[0m \u001b[1;33m=\u001b[0m \u001b[0mNoTrie\u001b[0m\u001b[1;33m(\u001b[0m\u001b[1;34m\"a\"\u001b[0m\u001b[1;33m)\u001b[0m\u001b[1;33m\u001b[0m\u001b[1;33m\u001b[0m\u001b[0m\n\u001b[0;32m      4\u001b[0m \u001b[0mraiz\u001b[0m\u001b[1;33m.\u001b[0m\u001b[0mfilhos\u001b[0m\u001b[1;33m[\u001b[0m\u001b[1;34m\"c\"\u001b[0m\u001b[1;33m]\u001b[0m\u001b[1;33m.\u001b[0m\u001b[0mfilhos\u001b[0m\u001b[1;33m[\u001b[0m\u001b[1;34m\"a\"\u001b[0m\u001b[1;33m]\u001b[0m\u001b[1;33m.\u001b[0m\u001b[0mfilhos\u001b[0m\u001b[1;33m[\u001b[0m\u001b[1;34m\"s\"\u001b[0m\u001b[1;33m]\u001b[0m \u001b[1;33m=\u001b[0m \u001b[0mNoTrie\u001b[0m\u001b[1;33m(\u001b[0m\u001b[1;34m\"s\"\u001b[0m\u001b[1;33m)\u001b[0m\u001b[1;33m\u001b[0m\u001b[1;33m\u001b[0m\u001b[0m\n\u001b[0;32m      5\u001b[0m \u001b[0mraiz\u001b[0m\u001b[1;33m.\u001b[0m\u001b[0mfilhos\u001b[0m\u001b[1;33m[\u001b[0m\u001b[1;34m\"c\"\u001b[0m\u001b[1;33m]\u001b[0m\u001b[1;33m.\u001b[0m\u001b[0mfilhos\u001b[0m\u001b[1;33m[\u001b[0m\u001b[1;34m\"a\"\u001b[0m\u001b[1;33m]\u001b[0m\u001b[1;33m.\u001b[0m\u001b[0mfilhos\u001b[0m\u001b[1;33m[\u001b[0m\u001b[1;34m\"s\"\u001b[0m\u001b[1;33m]\u001b[0m\u001b[1;33m.\u001b[0m\u001b[0mfilhos\u001b[0m\u001b[1;33m[\u001b[0m\u001b[1;34m\"a\"\u001b[0m\u001b[1;33m]\u001b[0m \u001b[1;33m=\u001b[0m \u001b[0mNoTrie\u001b[0m\u001b[1;33m(\u001b[0m\u001b[1;34m\"a\"\u001b[0m\u001b[1;33m,\u001b[0m \u001b[0mfim_palavra\u001b[0m\u001b[1;33m=\u001b[0m\u001b[1;32mTrue\u001b[0m\u001b[1;33m)\u001b[0m\u001b[1;33m\u001b[0m\u001b[1;33m\u001b[0m\u001b[0m\n",
      "\u001b[1;31mNameError\u001b[0m: name 'NoTrie' is not defined"
     ]
    }
   ],
   "source": [
    "raiz = NoTrie()\n",
    "raiz.filhos[\"c\"] = NoTrie(\"c\")\n",
    "raiz.filhos[\"c\"].filhos[\"a\"] = NoTrie(\"a\")\n",
    "raiz.filhos[\"c\"].filhos[\"a\"].filhos[\"s\"] = NoTrie(\"s\")\n",
    "raiz.filhos[\"c\"].filhos[\"a\"].filhos[\"s\"].filhos[\"a\"] = NoTrie(\"a\", fim_palavra=True)\n",
    "## Para \"caso\", só precisamos inserir as letras que ainda não foram inseridas\n",
    "raiz.filhos[\"c\"].filhos[\"a\"].filhos[\"s\"].filhos[\"o\"] = NoTrie(\"o\", fim_palavra=True)\n",
    "## Para \"dado\", temos que inserir todas as letras\n",
    "raiz.filhos[\"d\"] = NoTrie(\"d\")\n",
    "raiz.filhos[\"d\"].filhos[\"a\"] = NoTrie(\"a\")\n",
    "raiz.filhos[\"d\"].filhos[\"a\"].filhos[\"d\"] = NoTrie(\"d\")\n",
    "raiz.filhos[\"d\"].filhos[\"a\"].filhos[\"d\"].filhos[\"o\"] = NoTrie(\"o\", fim_palavra=True)"
   ]
  },
  {
   "cell_type": "markdown",
   "metadata": {},
   "source": [
    "Nesta prática você deverá adicionar/modificar os métodos da classe `Trie`, presente no arquivo `trie.py`, que implementa uma árvore patrícia, usando os nós da classe `NoTrie`. Os métodos e atributos da classe `NoTrie` que já foram implementados são:"
   ]
  },
  {
   "cell_type": "markdown",
   "metadata": {},
   "source": [
    "- `filhos`: Dicionario inicialmente vazio que deve conter, para cada no, tuplas formadas por {letra seguinte: no que representa essa letra}\n",
    "- `fim_palavra`: Indica se o nó é a última letra de uma palavra\n",
    "- `letra`: Indica a letra representada por aquele nó\n",
    "- `existe_letra`: Método que indica se letra está ou não entre os filhos daquele nó\n",
    "- `obtem_no_filho`: Método que retorna o filho desejado de um nó (um nó, não uma letra)\n",
    "- `nos_filhos`: Método que retorna todos as letras correspondentes aos filhos de um nó "
   ]
  },
  {
   "cell_type": "markdown",
   "metadata": {},
   "source": [
    "Os métodos e atributos da classe `Trie` que já foram implementados são:"
   ]
  },
  {
   "cell_type": "markdown",
   "metadata": {},
   "source": [
    "- `insere`: Método que insere uma nova chave na árvore"
   ]
  },
  {
   "cell_type": "markdown",
   "metadata": {},
   "source": [
    "**Atividade 1 - método pesquisa:**  crie um método que verifica se uma palavra existe na árvore trie. Você deve implementar o método `pesquisa` da classe `Trie`. Ele deve receber uma palavra a ser pesquisada e retornar um booleano que indica se essa palavra existe ou não na árvore. Para validar o método, execute o teste unitário a seguir. Os métodos `existe_letra` e `obtem_no_filho` poderão ser úteis. Veja que o comando abaixo executa o teste unitário presente no arquivo `trie_teste.py`. Analise-o para entender como implementamos testes unitários."
   ]
  },
  {
   "cell_type": "markdown",
   "metadata": {},
   "source": [
    "Lembre-se de como navegar em uma palavra: "
   ]
  },
  {
   "cell_type": "code",
   "execution_count": 2,
   "metadata": {},
   "outputs": [
    {
     "name": "stdout",
     "output_type": "stream",
     "text": [
      "c\n",
      "a\n",
      "s\n",
      "a\n"
     ]
    }
   ],
   "source": [
    "palavra = \"casa\"\n",
    "for letra in palavra: \n",
    "    print(letra)"
   ]
  },
  {
   "cell_type": "code",
   "execution_count": 8,
   "metadata": {},
   "outputs": [
    {
     "name": "stderr",
     "output_type": "stream",
     "text": [
      ".\n",
      "----------------------------------------------------------------------\n",
      "Ran 1 test in 0.000s\n",
      "\n",
      "OK\n"
     ]
    }
   ],
   "source": [
    "!python -m trie_teste TestNode.teste_pesquisa"
   ]
  },
  {
   "cell_type": "markdown",
   "metadata": {},
   "source": [
    "**Atividade 2 - preditor de texto:** Você já pensou em como prever, a partir do início de uma palavra, qual é a provável palavra que o usuário está digitando? Você irá entender como a árvore Trie pode auxiliar nesta tarefa. \n",
    "\n",
    "A partir de uma árvore Trie previamente preenchida, você irá criar o método `preditor` em que possui como parametro o inicio palavra digitada pelo usuário e retorna uma lista com as possíveis palavras que o usuário estava digitando. \n",
    "\n",
    "Para uma palavra desta árvore ser considerada como possível, ela deve ter a palavra digitada pelo usuário como prefixo. Caso seja necessário, você pode usar um outro método para te auxiliar nessa tarefa\n",
    "\n",
    "Para validar o método, execute o teste unitário a seguir. Veja que o comando abaixo executa o teste unitário presente no arquivo `trie_teste.py`."
   ]
  },
  {
   "cell_type": "code",
   "execution_count": 51,
   "metadata": {},
   "outputs": [
    {
     "name": "stdout",
     "output_type": "stream",
     "text": [
      "['compor']\n"
     ]
    },
    {
     "name": "stderr",
     "output_type": "stream",
     "text": [
      "F\n",
      "======================================================================\n",
      "FAIL: teste_preditor (__main__.TestNode)\n",
      "----------------------------------------------------------------------\n",
      "Traceback (most recent call last):\n",
      "  File \"C:\\Users\\Victor\\Documents\\CEFET2021\\Aeds 2\\LAED\\Arvore\\trie\\laeds2-trie-master\\trie_teste.py\", line 35, in teste_preditor\n",
      "    self.assertEqual(len(arvore.preditor(palavra)), arr_esperado[i],f\"Erro ao tentar prever as palavras com o prefixo {palavra}\")\n",
      "AssertionError: 1 != 2 : Erro ao tentar prever as palavras com o prefixo co\n",
      "\n",
      "----------------------------------------------------------------------\n",
      "Ran 1 test in 0.001s\n",
      "\n",
      "FAILED (failures=1)\n"
     ]
    }
   ],
   "source": [
    "!python -m trie_teste TestNode.teste_preditor"
   ]
  }
 ],
 "metadata": {
  "kernelspec": {
   "display_name": "Python 3",
   "language": "python",
   "name": "python3"
  },
  "language_info": {
   "codemirror_mode": {
    "name": "ipython",
    "version": 3
   },
   "file_extension": ".py",
   "mimetype": "text/x-python",
   "name": "python",
   "nbconvert_exporter": "python",
   "pygments_lexer": "ipython3",
   "version": "3.9.1"
  }
 },
 "nbformat": 4,
 "nbformat_minor": 2
}
