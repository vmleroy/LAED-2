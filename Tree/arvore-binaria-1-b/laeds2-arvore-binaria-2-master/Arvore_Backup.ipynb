{
 "cells": [
  {
   "cell_type": "markdown",
   "metadata": {},
   "source": [
    "Antes de entregar, certifique-se que tenha executado todos os comandos/códigos deste Jupyter. É obrigatório que todas as saídas tenham sido apresentadas. Perda de 1 ponto caso não tenham feito isso. Qualquer linha de comando/código como a de baixo, você pode executá-la a selecionando e pressionando `ctrl+enter`."
   ]
  },
  {
   "cell_type": "markdown",
   "metadata": {},
   "source": [
    "Nesta prática você deverá adicionar/modificar os métodos da classe `Node`, presente no arquivo `tree.py`, que essa classe representa o nodo de uma árvore binária e, por simplicidade, implementa uma árvore binária. Os métodos e atributos que já foram implementados são o seguinte:"
   ]
  },
  {
   "cell_type": "markdown",
   "metadata": {},
   "source": [
    "- `key`: Valor da chave. Pode possuir qualquer tipo desde, nesse tipo, seja implementado os métodos que sobrecarregam os [operadores de comparação](https://docs.python.org/3.5/reference/datamodel.html#object.__lt__) ou [o total ordering](https://docs.python.org/3.5/library/functools.html#functools.total_ordering). Em nossa prática, vocês podem usar o tipo inteiro\n",
    "- `left`: Objeto da classe `Node` que define o seu filho a esquerda\n",
    "- `right`: Objeto da classe `Node` que define o seu filho a direita\n",
    "- `print_tree` Método que efetua a impressão da árvore\n",
    "- `insert`: Método que insere uma nova chave na árvore\n",
    "- `search`: Método que retorna verdadeiro caso uma chave está presente na árvore"
   ]
  },
  {
   "cell_type": "markdown",
   "metadata": {},
   "source": [
    "**Atividade 1 - checar se uma árvore é balanceada:** Dada uma árvore binária, ela é considerada balanceada se, para cada nodo, suas sub-árvores da direita e da esquerda tem alturas que diferem em no máximo uma unidade. Você deve implementar o método `is_balanced` da classe `Nodo`. Ele deve receber a raiz da árvore e retornar um booleano que indica se a árvore é balanceada. Para validar o método, execute o teste unitário a seguir. Veja que o comando abaixo executa o teste unitário presente no arquivo `tree_test.py`. Analise-o para entender como implementamos testes unitários."
   ]
  },
  {
   "cell_type": "code",
   "execution_count": null,
   "metadata": {},
   "outputs": [],
   "source": [
    "!python3 -m tree_test TestNode.test_is_balanced"
   ]
  },
  {
   "cell_type": "markdown",
   "metadata": {},
   "source": [
    "**Atividade 2- transformar árvore em balanceada:** Agora, você deverá continuar a  implementação do método `sorted_array_to_balanced_tree` da classe `Nodo`. Esse método  transforma um vetor ordenado em uma árvore binária em balanceada. Dessa forma, o método `to_balanced_tree` funcionará adequadamente.  Para isso, você deverá modificar **apenas** os locais que estão com valores `None`. Este método deve retornar o novo nodo raiz desta árvore balanceada criada. \n",
    "\n",
    "Veja que o comando abaixo executa o teste unitário presente no arquivo `tree_test.py`. Analise-o para entender como implementamos testes unitários."
   ]
  },
  {
   "cell_type": "code",
   "execution_count": null,
   "metadata": {},
   "outputs": [],
   "source": [
    "!python3 -m tree_test TestNode.test_to_balanced_tree"
   ]
  }
 ],
 "metadata": {
  "kernelspec": {
   "display_name": "Python 3",
   "language": "python",
   "name": "python3"
  },
  "language_info": {
   "codemirror_mode": {
    "name": "ipython",
    "version": 3
   },
   "file_extension": ".py",
   "mimetype": "text/x-python",
   "name": "python",
   "nbconvert_exporter": "python",
   "pygments_lexer": "ipython3",
   "version": "3.6.9"
  }
 },
 "nbformat": 4,
 "nbformat_minor": 2
}
