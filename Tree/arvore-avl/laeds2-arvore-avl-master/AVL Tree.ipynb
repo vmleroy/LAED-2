{
 "cells": [
  {
   "cell_type": "markdown",
   "metadata": {},
   "source": [
    "Antes de entregar, certifique-se que tenha executado todos os comandos/códigos deste Jupyter. É obrigatório que todas as saídas tenham sido apresentadas. Perda de 2 pontos caso não tenham feito isso. Qualquer linha de comando/código como a de baixo, você pode executá-la a selecionando e pressionando `ctrl+enter`."
   ]
  },
  {
   "cell_type": "markdown",
   "metadata": {},
   "source": [
    "Nesta prática iremos implementar a inserção na árvore AVL. Para isso, já temos implementado alguns métodos e classes. Diferentemente da prática passada, desta vez temos a classe `AVL` com um nodo raiz e a operação de inserir e imprimir. A classe `No` que representa um nó dessa árvore com suas referencias `esquerda` e `direita` e, além disso, um atributo que armazena a altura da mesma e um [atributo calculado](https://daniel-hasan.github.io/cefet-web-grad/classes/python2/#encapsulamento-ex) que define o equilíbrio, para definir se a subarvore a partir deste nodo está ou não balanceada. "
   ]
  },
  {
   "cell_type": "markdown",
   "metadata": {},
   "source": [
    "**Atividade 1 - rotação a esquerda: ** Você deverá implementar o método `rotacao_esquerda` da classe `Nodo`. Nesse método, deve-se fazer a rotação a esquerda. Esse método será executado em qualquer parte da árvore. Podemos considerar, assim, que cada nodo é raiz de uma determinada subarvore. Essa raiz pode ser a raiz da árvore em questão. Assim, esse método recebe como parametro a raiz de uma subárvore e retorna a nova raiz após a rotação. Veja figura abaixo em que a `raiz_subarvore` é o nó 13. Na árvore a direita, as setas em verde representam as referencias modificadas. Além disso, atualize a altura dos nós que julgar necessário usando o método `atualiza_altura`. Perceba que nem todos os nós tem a altura modificada e você não deve alterar mais nós que o necessário (mesmo 'para garantir')."
   ]
  },
  {
   "cell_type": "markdown",
   "metadata": {},
   "source": [
    "<img src=\"imgs/rotacao_simples_esquerda.png\">"
   ]
  },
  {
   "cell_type": "markdown",
   "metadata": {},
   "source": [
    "Execute o teste unitário abaixo para verificar sua corretude:"
   ]
  },
  {
   "cell_type": "code",
   "execution_count": 1,
   "metadata": {},
   "outputs": [
    {
     "name": "stdout",
     "output_type": "stream",
     "text": [
      "\n",
      "Rotacao esquerda\n",
      "15\n",
      "---------Esquerda de 15-------\n",
      "13\n",
      "---------Esquerda de 13-------\n",
      "6\n",
      "---------Direita  de 13-------\n",
      "14\n",
      "---------Direita  de 15-------\n",
      "17\n",
      "---------Direita  de 17-------\n",
      "18\n"
     ]
    },
    {
     "name": "stderr",
     "output_type": "stream",
     "text": [
      ".\n",
      "----------------------------------------------------------------------\n",
      "Ran 1 test in 0.000s\n",
      "\n",
      "OK\n"
     ]
    }
   ],
   "source": [
    "!python -m avl_tree_test TestAVL.test_rotacao_esquerda"
   ]
  },
  {
   "cell_type": "markdown",
   "metadata": {},
   "source": [
    "**Atividade 2 - rotacionar a direita**: Similar à atividade anterior, agora você deverá implementar a rotação a direita pelo método `rotacao_direita` conforme figura abaixo. Lembre-se também de atualizar a altura quando necessário. Dessa vez, as referencias as serem modificadas não estão realçadas - você deverá verificar quais são elas. "
   ]
  },
  {
   "cell_type": "markdown",
   "metadata": {},
   "source": [
    "<img src=\"imgs/rotacao_simples_direita.png\">"
   ]
  },
  {
   "cell_type": "markdown",
   "metadata": {},
   "source": [
    "Execute o teste unitário abaixo para verificar sua corretude:"
   ]
  },
  {
   "cell_type": "code",
   "execution_count": 2,
   "metadata": {},
   "outputs": [
    {
     "name": "stdout",
     "output_type": "stream",
     "text": [
      "\n",
      "Rotacao direita\n",
      "13\n",
      "---------Esquerda de 13-------\n",
      "6\n",
      "---------Esquerda de 6-------\n",
      "4\n",
      "---------Esquerda de 4-------\n",
      "3\n",
      "---------Direita  de 6-------\n",
      "14\n",
      "---------Direita  de 13-------\n",
      "15\n",
      "Depois\n",
      "6\n",
      "---------Esquerda de 6-------\n",
      "4\n",
      "---------Esquerda de 4-------\n",
      "3\n",
      "---------Direita  de 6-------\n",
      "13"
     ]
    },
    {
     "name": "stderr",
     "output_type": "stream",
     "text": [
      ".\n",
      "----------------------------------------------------------------------\n",
      "Ran 1 test in 0.000s\n",
      "\n",
      "OK\n"
     ]
    },
    {
     "name": "stdout",
     "output_type": "stream",
     "text": [
      "\n",
      "---------Esquerda de 13-------\n",
      "14\n",
      "---------Direita  de 13-------\n",
      "15\n"
     ]
    }
   ],
   "source": [
    "!python -m avl_tree_test TestAVL.test_rotacao_direita"
   ]
  },
  {
   "cell_type": "markdown",
   "metadata": {},
   "source": [
    "**Atividade 3 - Rotação dupla a esquerda: ** Você deverá implementar o método `rotacao_dupla_esquerda`. Este método recebe como parâmetro uma raiz de uma subárvore e deve realizar a operação conforme a figura abaixo. Para realizar essa operação e modificar as referencias, você deverá usar apenas atribuições com os métodos `rotacao_direita` e  `rotacao_esquerda`. Este método deve retornar a nova raiz desta subárvore."
   ]
  },
  {
   "cell_type": "markdown",
   "metadata": {},
   "source": [
    "<img src=\"imgs/rotacao_dupla_esquerda.png\">"
   ]
  },
  {
   "cell_type": "markdown",
   "metadata": {},
   "source": [
    "Execute nosso querido teste unitário: "
   ]
  },
  {
   "cell_type": "code",
   "execution_count": 3,
   "metadata": {},
   "outputs": [
    {
     "name": "stdout",
     "output_type": "stream",
     "text": [
      "\n",
      "ROTACAO DUPLA ESQUERDA\n",
      "12\n",
      "---------Esquerda de 12-------\n",
      "6\n",
      "---------Direita  de 12-------\n",
      "16\n",
      "---------Esquerda de 16-------\n",
      "14\n",
      "---------Esquerda de 14-------\n",
      "13\n",
      "---------Direita  de 16-------\n",
      "17\n",
      "\n",
      "Rotacao direita\n",
      "16\n",
      "---------Esquerda de 16-------\n",
      "14\n",
      "---------Esquerda de 14-------\n",
      "13\n",
      "---------Direita  de 16-------\n",
      "17\n",
      "Depois\n",
      "14\n",
      "---------Esquerda de 14-------\n",
      "13"
     ]
    },
    {
     "name": "stderr",
     "output_type": "stream",
     "text": [
      ".\n",
      "----------------------------------------------------------------------\n",
      "Ran 1 test in 0.000s\n",
      "\n",
      "OK\n"
     ]
    },
    {
     "name": "stdout",
     "output_type": "stream",
     "text": [
      "\n",
      "---------Direita  de 14-------\n",
      "16\n",
      "---------Direita  de 16-------\n",
      "17\n",
      "\n",
      "Rotacao esquerda\n",
      "14\n",
      "---------Esquerda de 14-------\n",
      "12\n",
      "---------Esquerda de 12-------\n",
      "6\n",
      "---------Direita  de 12-------\n",
      "13\n",
      "---------Direita  de 14-------\n",
      "16\n",
      "---------Direita  de 16-------\n",
      "17\n",
      "Depois\n",
      "14\n",
      "---------Esquerda de 14-------\n",
      "12\n",
      "---------Esquerda de 12-------\n",
      "6\n",
      "---------Direita  de 12-------\n",
      "13\n",
      "---------Direita  de 14-------\n",
      "16\n",
      "---------Direita  de 16-------\n",
      "17\n"
     ]
    }
   ],
   "source": [
    "!python -m avl_tree_test TestAVL.test_rotacao_dupla_esquerda"
   ]
  },
  {
   "cell_type": "markdown",
   "metadata": {},
   "source": [
    "**Atividade 4 - rotação dupla a direita: ** De forma similar à atividade anterior, implemente o método `rotacao_dupla_direita`. A figura abaixo mostra a mudança desta (sub)árvore."
   ]
  },
  {
   "cell_type": "markdown",
   "metadata": {},
   "source": [
    "<img src=\"imgs/rotacao_dupla_direita.png\">"
   ]
  },
  {
   "cell_type": "markdown",
   "metadata": {},
   "source": [
    "🥰 Teste 🥰:"
   ]
  },
  {
   "cell_type": "code",
   "execution_count": 4,
   "metadata": {},
   "outputs": [
    {
     "name": "stderr",
     "output_type": "stream",
     "text": [
      ".\n",
      "----------------------------------------------------------------------\n",
      "Ran 1 test in 0.000s\n"
     ]
    },
    {
     "name": "stdout",
     "output_type": "stream",
     "text": [
      "\n",
      "ROTACAO DUPLA DIREITA\n",
      "13\n",
      "---------Esquerda de 13-------\n",
      "6\n",
      "---------Esquerda de 6-------\n",
      "4\n",
      "---------Direita  de 6-------\n",
      "9\n",
      "---------Esquerda de 9-------\n",
      "8\n",
      "---------Direita  de 13-------\n",
      "15\n",
      "\n",
      "Rotacao esquerda\n",
      "9\n",
      "---------Esquerda de 9-------\n",
      "6\n",
      "---------Esquerda de 6-------\n",
      "4\n",
      "---------Direita  de 6-------\n",
      "8\n",
      "\n",
      "Rotacao direita\n",
      "13\n",
      "---------Esquerda de 13-------\n",
      "9\n",
      "---------Esquerda de 9-------\n",
      "6\n",
      "---------Esquerda de 6-------\n",
      "4\n",
      "---------Direita  de 6-------\n",
      "8\n",
      "---------Direita  de 13-------\n",
      "15\n",
      "Depois\n",
      "9\n",
      "---------Esquerda de 9-------\n",
      "6\n",
      "---------Esquerda de 6-------\n",
      "4\n",
      "---------Direita  de 6-------\n",
      "8\n"
     ]
    },
    {
     "name": "stderr",
     "output_type": "stream",
     "text": [
      "\n",
      "OK\n"
     ]
    }
   ],
   "source": [
    "!python -m avl_tree_test TestAVL.test_rotacao_dupla_direita"
   ]
  },
  {
   "cell_type": "markdown",
   "metadata": {},
   "source": [
    "**Atividade 5**: Você deverá adicionar no método `_insere` os métodos implementados de acordo com cada caso de desbalanceamento da subarvore cuja raiz é o parametro `raiz_sub_arvore`. Esse método retorna a nova raiz. No código, já existe todos os casos considerando o desiquilibrio da árvore e a chave a ser inserida. "
   ]
  },
  {
   "cell_type": "markdown",
   "metadata": {},
   "source": [
    "❤️ Make tests not war ❤️"
   ]
  },
  {
   "cell_type": "code",
   "execution_count": 5,
   "metadata": {},
   "outputs": [
    {
     "name": "stdout",
     "output_type": "stream",
     "text": [
      "---------Direita  de 9-------\n",
      "13\n",
      "---------Direita  de 13-------\n",
      "15\n",
      "Depois\n",
      "9\n",
      "---------Esquerda de 9-------\n",
      "6\n",
      "---------Esquerda de 6-------\n",
      "4\n",
      "---------Direita  de 6-------\n",
      "8\n",
      "---------Direita  de 9-------\n",
      "13\n",
      "---------Direita  de 13-------\n",
      "15\n",
      "\n",
      "Rotacao esquerda\n",
      "20\n",
      "---------Esquerda de 20-------\n",
      "10\n",
      "---------Direita  de 20-------\n",
      "30\n",
      "\n",
      "ROTACAO DUPLA ESQUERDA\n",
      "10\n",
      "---------Direita  de 10-------\n",
      "16\n",
      "---------Esquerda de 16-------\n",
      "14\n",
      "\n",
      "Rotacao direita\n",
      "16\n",
      "---------Esquerda de 16-------\n",
      "14\n",
      "Depois\n",
      "14\n",
      "---------Direita  de 14-------\n",
      "16\n",
      "\n",
      "Rotacao esquerda\n",
      "14\n",
      "---------Esquerda de 14-------\n",
      "10"
     ]
    },
    {
     "name": "stderr",
     "output_type": "stream",
     "text": [
      ".\n",
      "----------------------------------------------------------------------\n",
      "Ran 1 test in 0.000s\n",
      "\n",
      "OK\n"
     ]
    },
    {
     "name": "stdout",
     "output_type": "stream",
     "text": [
      "\n",
      "---------Direita  de 14-------\n",
      "16\n",
      "Depois\n",
      "14\n",
      "---------Esquerda de 14-------\n",
      "10\n",
      "---------Direita  de 14-------\n",
      "16\n",
      "\n",
      "ROTACAO DUPLA DIREITA\n",
      "20\n",
      "---------Esquerda de 20-------\n",
      "14\n",
      "---------Esquerda de 14-------\n",
      "10\n",
      "---------Direita  de 14-------\n",
      "16\n",
      "---------Esquerda de 16-------\n",
      "15\n",
      "---------Direita  de 20-------\n",
      "30\n",
      "\n",
      "Rotacao esquerda\n",
      "16\n",
      "---------Esquerda de 16-------\n",
      "14\n",
      "---------Esquerda de 14-------\n",
      "10\n",
      "---------Direita  de 14-------\n",
      "15\n",
      "\n",
      "Rotacao direita\n",
      "20\n",
      "---------Esquerda de 20-------\n",
      "16\n",
      "---------Esquerda de 16-------\n",
      "14\n",
      "---------Esquerda de 14-------\n",
      "10\n",
      "---------Direita  de 14-------\n",
      "15\n",
      "---------Direita  de 20-------\n",
      "30\n",
      "Depois"
     ]
    }
   ],
   "source": [
    "!python -m avl_tree_test TestAVL.test_insere"
   ]
  },
  {
   "cell_type": "markdown",
   "metadata": {},
   "source": [
    "Faça uma árvore que seja necessário passar por, pelo menos uma rotação simples e uma rotação dupla. Se necessário, faça \"prints\" no código para confirmar que foi feito determinadas rotações. Não esqueça de reiniciar o Kernel antes (e após fazer alguma modificação no código)"
   ]
  },
  {
   "cell_type": "code",
   "execution_count": 6,
   "metadata": {},
   "outputs": [
    {
     "name": "stdout",
     "output_type": "stream",
     "text": [
      "\n",
      "16\n",
      "---------Esquerda de 16-------\n",
      "14\n",
      "---------Esquerda de 14-------\n",
      "10\n",
      "---------Direita  de 14-------\n",
      "15\n",
      "---------Direita  de 16-------\n",
      "20\n",
      "---------Direita  de 20-------\n",
      "30\n",
      "Depois\n",
      "16\n",
      "---------Esquerda de 16-------\n",
      "14\n",
      "---------Esquerda de 14-------\n",
      "10\n",
      "---------Direita  de 14-------\n",
      "15\n",
      "---------Direita  de 16-------\n",
      "20\n",
      "---------Direita  de 20-------\n",
      "30\n",
      "\n",
      "Rotacao esquerda\n",
      "20\n",
      "---------Esquerda de 20-------\n",
      "10\n",
      "---------Direita  de 20-------\n",
      "30\n",
      "\n",
      "ROTACAO DUPLA ESQUERDA\n",
      "10\n",
      "---------Direita  de 10-------\n",
      "16\n",
      "---------Esquerda de 16-------\n",
      "14\n",
      "\n",
      "Rotacao direita\n",
      "16\n",
      "---------Esquerda de 16-------\n",
      "14\n",
      "Depois\n",
      "14\n",
      "---------Direita  de 14-------\n",
      "16\n",
      "\n",
      "Rotacao esquerda\n",
      "14\n",
      "---------Esquerda de 14-------\n",
      "10\n",
      "---------Direita  de 14-------\n",
      "16\n",
      "Depois\n",
      "14\n",
      "---------Esquerda de 14-------\n",
      "10\n",
      "---------Direita  de 14-------\n",
      "16\n",
      "\n",
      "ROTACAO DUPLA DIREITA\n",
      "20\n",
      "---------Esquerda de 20-------\n",
      "14\n",
      "---------Esquerda de 14-------\n",
      "10\n",
      "---------Direita  de 14-------\n",
      "16\n",
      "---------Esquerda de 16-------\n",
      "15\n",
      "---------Direita  de 20-------\n",
      "30\n",
      "\n",
      "Rotacao esquerda\n",
      "16\n",
      "---------Esquerda de 16-------\n",
      "14\n",
      "---------Esquerda de 14-------\n",
      "10\n",
      "---------Direita  de 14-------\n",
      "15\n",
      "\n",
      "Rotacao direita\n",
      "20\n",
      "---------Esquerda de 20-------\n",
      "16\n",
      "---------Esquerda de 16-------\n",
      "14\n",
      "---------Esquerda de 14-------\n",
      "10\n",
      "---------Direita  de 14-------\n",
      "15\n",
      "---------Direita  de 20-------\n",
      "30\n",
      "Depois\n",
      "16\n",
      "---------Esquerda de 16-------\n",
      "14\n",
      "---------Esquerda de 14-------\n",
      "10\n",
      "---------Direita  de 14-------\n",
      "15\n",
      "---------Direita  de 16-------\n",
      "20\n",
      "---------Direita  de 20-------\n",
      "30\n",
      "Depois\n",
      "16\n",
      "---------Esquerda de 16-------\n",
      "14\n",
      "---------Esquerda de 14-------\n",
      "10\n",
      "---------Direita  de 14-------\n",
      "15\n",
      "---------Direita  de 16-------\n",
      "20\n",
      "---------Direita  de 20-------\n",
      "30\n",
      "\n",
      "Rotacao esquerda\n",
      "5\n",
      "---------Esquerda de 5-------\n",
      "4\n",
      "---------Direita  de 5-------\n",
      "7\n",
      "\n",
      "Rotacao direita\n",
      "4\n",
      "---------Esquerda de 4-------\n",
      "2\n",
      "---------Esquerda de 2-------\n",
      "1\n",
      "Depois\n",
      "2\n",
      "---------Esquerda de 2-------\n",
      "1\n",
      "---------Direita  de 2-------\n",
      "4\n",
      "\n",
      "Rotacao direita\n",
      "5\n",
      "---------Esquerda de 5-------\n",
      "2\n",
      "---------Esquerda de 2-------\n",
      "1\n",
      "---------Direita  de 2-------\n",
      "4\n",
      "---------Direita  de 5-------\n",
      "7\n",
      "Depois\n",
      "2\n",
      "---------Esquerda de 2-------\n",
      "1\n",
      "---------Direita  de 2-------\n",
      "5\n",
      "---------Esquerda de 5-------\n",
      "4\n",
      "---------Direita  de 5-------\n",
      "7\n",
      "\n",
      "ROTACAO DUPLA ESQUERDA\n",
      "2\n",
      "---------Esquerda de 2-------\n",
      "1\n",
      "---------Direita  de 2-------\n",
      "5\n",
      "---------Esquerda de 5-------\n",
      "4\n",
      "---------Esquerda de 4-------\n",
      "3\n",
      "---------Direita  de 5-------\n",
      "7\n",
      "\n",
      "Rotacao direita\n",
      "5\n",
      "---------Esquerda de 5-------\n",
      "4\n",
      "---------Esquerda de 4-------\n",
      "3\n",
      "---------Direita  de 5-------\n",
      "7\n",
      "Depois\n",
      "4\n",
      "---------Esquerda de 4-------\n",
      "3\n",
      "---------Direita  de 4-------\n",
      "5\n",
      "---------Direita  de 5-------\n",
      "7\n",
      "\n",
      "Rotacao esquerda\n",
      "4\n",
      "---------Esquerda de 4-------\n",
      "2\n",
      "---------Esquerda de 2-------\n",
      "1\n",
      "---------Direita  de 2-------\n",
      "3\n",
      "---------Direita  de 4-------\n",
      "5\n",
      "---------Direita  de 5-------\n",
      "7\n",
      "Depois\n",
      "4\n",
      "---------Esquerda de 4-------\n",
      "2\n",
      "---------Esquerda de 2-------\n",
      "1\n",
      "---------Direita  de 2-------\n",
      "3\n",
      "---------Direita  de 4-------\n",
      "5\n",
      "---------Direita  de 5-------\n",
      "7\n",
      "\n",
      "ROTACAO DUPLA ESQUERDA\n",
      "5\n",
      "---------Direita  de 5-------\n",
      "7\n",
      "---------Esquerda de 7-------\n",
      "6\n",
      "\n",
      "Rotacao direita\n",
      "7\n",
      "---------Esquerda de 7-------\n",
      "6\n",
      "Depois\n",
      "6\n",
      "---------Direita  de 6-------\n",
      "7\n",
      "\n",
      "Rotacao esquerda\n",
      "6\n",
      "---------Esquerda de 6-------\n",
      "5\n",
      "---------Direita  de 6-------\n",
      "7\n",
      "Depois\n",
      "6\n",
      "---------Esquerda de 6-------\n",
      "5\n",
      "---------Direita  de 6-------\n",
      "7\n",
      "4\n",
      "---------Esquerda de 4-------\n",
      "2\n",
      "---------Esquerda de 2-------\n",
      "1\n",
      "---------Direita  de 2-------\n",
      "3\n",
      "---------Direita  de 4-------\n",
      "6\n",
      "---------Esquerda de 6-------\n",
      "5\n",
      "---------Direita  de 6-------\n",
      "7\n",
      "\n"
     ]
    }
   ],
   "source": [
    "from avl_tree import *\n",
    "if __name__ == \"__main__\":\n",
    "        root = No(4)\n",
    "        avl = AVL(root)\n",
    "\n",
    "        avl.insere(4)\n",
    "        avl.insere(5)\n",
    "        avl.insere(7) # rotacao simples\n",
    "        avl.insere(2)\n",
    "        avl.insere(1) # rotacao simples\n",
    "        avl.insere(3) # rotacao dupla\n",
    "        avl.insere(6) # rotacao dupla\n",
    "        \n",
    "        avl._imprime(avl.raiz)\n",
    "        \n",
    "        print()\n",
    "        root = No(10)\n",
    "        avl = AVL(root)\n"
   ]
  }
 ],
 "metadata": {
  "kernelspec": {
   "display_name": "Python 3",
   "language": "python",
   "name": "python3"
  },
  "language_info": {
   "codemirror_mode": {
    "name": "ipython",
    "version": 3
   },
   "file_extension": ".py",
   "mimetype": "text/x-python",
   "name": "python",
   "nbconvert_exporter": "python",
   "pygments_lexer": "ipython3",
   "version": "3.9.1"
  }
 },
 "nbformat": 4,
 "nbformat_minor": 2
}
