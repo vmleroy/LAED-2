{
 "cells": [
  {
   "cell_type": "markdown",
   "metadata": {},
   "source": [
    "Nesta prática, você irá implementar um Heap e, logo após, aplicá-lo em uma fila de prioridades. "
   ]
  },
  {
   "cell_type": "markdown",
   "metadata": {},
   "source": [
    "## Implementação de Max-Heap"
   ]
  },
  {
   "cell_type": "markdown",
   "metadata": {},
   "source": [
    "Nesta seção você irá implementar um max-heap, ou seja,  um heap em que o nodo raiz será o maior valor da sequencia. Esse Heap será implementado no arquivo `heap.py`  e testado por aqui."
   ]
  },
  {
   "cell_type": "markdown",
   "metadata": {},
   "source": [
    "**Atividade 1 - métodos esquerda, direita e pai**: Você deverá implementar os métodos esquerda, direita e pai. Tais métodos possuem, como parâmetro, a posição de um determinado nodo $i$ e retornam a posição a esquerda, direita e pai desse nodo. Logo após, execute o teste abaixo. [A função floor do módulo math](https://docs.python.org/2/library/math.html) poderá ser útil para calcular a posição do pai."
   ]
  },
  {
   "cell_type": "code",
   "execution_count": 1,
   "metadata": {},
   "outputs": [
    {
     "name": "stderr",
     "output_type": "stream",
     "text": [
      ".\n",
      "----------------------------------------------------------------------\n",
      "Ran 1 test in 0.000s\n",
      "\n",
      "OK\n"
     ]
    }
   ],
   "source": [
    "!python -m heap_test TestHeap.test_caminho_heap"
   ]
  },
  {
   "cell_type": "markdown",
   "metadata": {},
   "source": [
    "**Atividade 2 - método refaz**: O método refaz o Heap com o objetivo reposicionar o valor que está no nodo `pos_raiz_sub_arvore`, passado como parametro, de tal forma que ela obedeça as propriedades do Heap. O valor que está inicialmente em `pos_raiz_sub_arvore` será armazenado em `val_raiz_sub_arvore`. Você deve completar esse método para que ele funcione. O atributo calculado  `pos_ultimo_item` poderá ser útil. \n",
    "\n",
    "O funcionamento dese método [é apresentado aqui](https://docs.google.com/presentation/d/10Kk8D5RUN8CdEo3iN_GQzO26jgZn6jbwT5ZoKUQTYlQ/edit?usp=sharing).  Nele, é feito um caminhamento na árvore com o objetivo de achar um nodo (chamado de `pos_pai`) no qual os seus filhos a esquerda e a direita sejam menores que `val_raiz_sub_arvore`. Enquanto não encontrar, você deve deslocar o valor do nodo de maior valor entre a esquerda ou direita (armazenado na posição `pos_maior_filho` do vetor) para o nodo em `pos_pai`. "
   ]
  },
  {
   "cell_type": "markdown",
   "metadata": {},
   "source": [
    "Rode o teste abaixo para verificar se sua implementação funcionou:"
   ]
  },
  {
   "cell_type": "code",
   "execution_count": 2,
   "metadata": {},
   "outputs": [
    {
     "name": "stdout",
     "output_type": "stream",
     "text": [
      "-------------\n"
     ]
    },
    {
     "name": "stderr",
     "output_type": "stream",
     "text": [
      ".\n",
      "----------------------------------------------------------------------\n",
      "Ran 1 test in 0.000s\n",
      "\n",
      "OK\n"
     ]
    }
   ],
   "source": [
    "!python -m heap_test TestHeap.test_refaz"
   ]
  },
  {
   "cell_type": "markdown",
   "metadata": {},
   "source": [
    "**Atividade  3 - método retira_max: **  O método abaixo deverá retirar o valor máximo desse heap e, logo após, realocar os valores para que continue obedecendo a propriedade do Heap. A lista possui o método [pop](https://docs.python.org/3.8/tutorial/datastructures.html) que pode ser útil. Em python, para pegar a última posição de um vetor, você pode usar `-1`."
   ]
  },
  {
   "cell_type": "code",
   "execution_count": 3,
   "metadata": {},
   "outputs": [
    {
     "name": "stderr",
     "output_type": "stream",
     "text": [
      ".\n",
      "----------------------------------------------------------------------\n",
      "Ran 1 test in 0.000s\n",
      "\n",
      "OK\n"
     ]
    }
   ],
   "source": [
    "!python -m heap_test TestHeap.test_retira_max"
   ]
  },
  {
   "cell_type": "markdown",
   "metadata": {},
   "source": [
    "**Atividade 4 - método insere: ** O método insere irá funcionar conforme apresentado [neste exemplo](https://docs.google.com/presentation/d/15Eg5YdF3rG2cfI8zREG5uCVTnh-ofS-lpfyT7_MNzaw/edit?usp=sharing). O código implementado deverá fazer ajustes na árvore e encontrar a posição `pos_insere` para inserir este item. Essa posição deve ser menor que seu pai. Enquanto não encontra essa posição, é feito uma substituição entre `pos_pai_insere` e `pos_insere`."
   ]
  },
  {
   "cell_type": "code",
   "execution_count": 4,
   "metadata": {},
   "outputs": [
    {
     "name": "stderr",
     "output_type": "stream",
     "text": [
      ".\n",
      "----------------------------------------------------------------------\n",
      "Ran 1 test in 0.000s\n",
      "\n",
      "OK\n"
     ]
    }
   ],
   "source": [
    "!python -m heap_test TestHeap.test_insere"
   ]
  },
  {
   "cell_type": "markdown",
   "metadata": {},
   "source": [
    "## Aplicação: Fila de prioridades em caixa bancário"
   ]
  },
  {
   "cell_type": "markdown",
   "metadata": {},
   "source": [
    "Nesta parte da prática, iremos usar o heap para simular uma fila de prioridades em um caixa de banco. Para isso, iremos possuir a classe `Cliente` que informamos seus dados, a classe `PrioridadeCliente` que é armazenado a prioridade que ele vai dar e sua ordem de chegada além da classe `CaixaBanco` que possui a fila de prioridades para seus cliente e indica qual vai ser o próximo cliente a ser atendido. Tais classes estão parcialmente implementadas no arquivo `banco.py`.\n",
    "\n",
    "O Heap deverá se manter genérico! Ou seja, você não deverá utilizar atributos especificos das classes `Cliente`, `PrioridadeCliente` e `CaixaBanco` nos métodos do Heap implementados anteriormente. Garanta também que os testes unitários anteriores continuem funcionado. "
   ]
  },
  {
   "cell_type": "markdown",
   "metadata": {},
   "source": [
    "**Atividade 5 - métodos de comparação da classe PrioridadeCliente**: Iremos fazer um Heap em que seus itens serão instancias da classe PrioridadeCliente. Por isso, temos que implementar os [comparadores de `__eq__` e `__lt__`](https://docs.python.org/3.7/reference/datamodel.html#object.__lt__) além de usar o _decorator_ [total_ordering](https://docs.python.org/3.7/library/functools.html#functools.total_ordering) - [veja também aqui](https://portingguide.readthedocs.io/en/latest/comparisons.html#rich-comparisons). `__eq__` retorna igual se um objeto é considerado igual ao outro. Em nosso contexto, não haverá dois objetos prioridades iguais, pois, dois objetos seriam iguais  se um cliente tem a mesma prioridade e a mesma ordem de chegada. \n",
    "\n",
    "O comparador `<` é implementado pelo método `__lt__` que retorna verdadeiro de o objeto corrrente (self) é menor do que o objeto passado como parametro. Quanto maior o valor do atributo 'prioridade', maior a prioridade do cliente. Caso o cliente tenha o mesmo valor em `prioridade` a prioridade será maior para o cliente que chegou mais cedo, de acordo com a ordem de chegada. "
   ]
  },
  {
   "cell_type": "code",
   "execution_count": 5,
   "metadata": {},
   "outputs": [
    {
     "name": "stdout",
     "output_type": "stream",
     "text": [
      "Resultado obtido: True - esperado: True\n",
      "Resultado obtido: True - esperado: True\n",
      "Resultado obtido: False - esperado: False\n"
     ]
    }
   ],
   "source": [
    "from banco import *\n",
    "joao = Cliente(\"João\",23,False)\n",
    "alice = Cliente(\"Alice\", 34, False)\n",
    "bob = Cliente(\"Bob\", 34, True)\n",
    "carol = Cliente(\"Carol\", 18, True)\n",
    "\n",
    "p_joao = PrioridadeCliente(joao, 2)\n",
    "p_alice = PrioridadeCliente(alice, 2)\n",
    "p_bob = PrioridadeCliente(bob, 3)\n",
    "p_carol = PrioridadeCliente(carol, 3)\n",
    "\n",
    "print(f\"Resultado obtido: {p_alice < p_joao} - esperado: True\")\n",
    "print(f\"Resultado obtido: {p_alice < p_bob} - esperado: True\")\n",
    "print(f\"Resultado obtido: {p_bob < p_carol} - esperado: False\")"
   ]
  },
  {
   "cell_type": "markdown",
   "metadata": {},
   "source": [
    "**Atividade 6 - método adiciona_cliente na classe Banco: ** Neste método, espera-se de entrada um cliente e, a partir de sua idade e se é portador de necessidades especiais, este método define sua prioridade. Caso o cliente possua mais que 80 anos, ele tem a prioridade mais alta (prioridade =3). Clientes com idade de 60 até 80 anos ou portadores de necessidades especiais terá a segunda prioridade (prioridade = 2). Logo após, com a menor prioridade, os demais clientes. \n",
    "\n",
    "Definindo a prioridade, instancia-se um objeto da classe prioridade e adiciona ele no heap (atributo `fila_prioridade`). "
   ]
  },
  {
   "cell_type": "markdown",
   "metadata": {},
   "source": [
    "**Atividade 7 - método proximo_cliente: ** Retira o cliente com maior prioridade da fila. Esse valor é o retorno deste metodo. Abaixo, faça um teste para verificar se os métodos adiciona_cliente e proximo_clinte foram criados adequadamente. O teste deve ser suficiente para  demonstrar o bom funcionamento dos dois métodos. Não esqueça de reiniciar o kernel ;)"
   ]
  },
  {
   "cell_type": "code",
   "execution_count": 6,
   "metadata": {},
   "outputs": [
    {
     "name": "stdout",
     "output_type": "stream",
     "text": [
      "\n",
      "Banco: banco-bb Fila: [Cliente: Geraldo Prioridade: 3, Cliente: Carol Prioridade: 2, Cliente: Bob Prioridade: 2, Cliente: Alice Prioridade: 1, Cliente: Wander Prioridade: 2, Cliente: João Prioridade: 1]\n",
      "\n",
      "Proximo cliente a ser atendido :\n",
      "        Cliente: Geraldo Prioridade: 3\n",
      "Banco: banco-bb Fila: [Cliente: Bob Prioridade: 2, Cliente: Carol Prioridade: 2, Cliente: João Prioridade: 1, Cliente: Alice Prioridade: 1, Cliente: Wander Prioridade: 2]\n",
      "\n",
      "Proximo cliente a ser atendido :\n",
      "        Cliente: Bob Prioridade: 2\n",
      "Banco: banco-bb Fila: [Cliente: Carol Prioridade: 2, Cliente: Wander Prioridade: 2, Cliente: João Prioridade: 1, Cliente: Alice Prioridade: 1]\n",
      "\n",
      "Proximo cliente a ser atendido :\n",
      "        Cliente: Carol Prioridade: 2\n",
      "Banco: banco-bb Fila: [Cliente: Wander Prioridade: 2, Cliente: Alice Prioridade: 1, Cliente: João Prioridade: 1]\n",
      "\n",
      "Proximo cliente a ser atendido :\n",
      "        Cliente: Wander Prioridade: 2\n",
      "Banco: banco-bb Fila: [Cliente: João Prioridade: 1, Cliente: Alice Prioridade: 1]\n",
      "\n",
      "Proximo cliente a ser atendido :\n",
      "        Cliente: João Prioridade: 1\n",
      "Banco: banco-bb Fila: [Cliente: Alice Prioridade: 1]\n",
      "\n",
      "Proximo cliente a ser atendido :\n",
      "        Cliente: Alice Prioridade: 1\n",
      "Banco: banco-bb Fila: []\n",
      "\n",
      "Proximo cliente a ser atendido :\n",
      "        Nao ha mais clientes na fila\n",
      "Banco: banco-bb Fila: []\n",
      "\n"
     ]
    }
   ],
   "source": [
    "from banco import *\n",
    "joao = Cliente(\"João\",23,False)          # Prioridade 1\n",
    "alice = Cliente(\"Alice\", 34, False)      # Prioridade 1\n",
    "bob = Cliente(\"Bob\", 34, True)           # Prioridade 2\n",
    "carol = Cliente(\"Carol\", 18, True)       # Prioridade 2\n",
    "wander = Cliente(\"Wander\", 70, True)     # Prioridade 2\n",
    "geraldo = Cliente(\"Geraldo\", 82, False)  # Prioridade 3\n",
    "\n",
    "lista_clientes = [joao, alice, bob, carol, wander, geraldo]\n",
    "\n",
    "caixa = CaixaBanco(\"banco-bb\")\n",
    "for i in lista_clientes:\n",
    "    caixa.adiciona_cliente(i)\n",
    "    \n",
    "print(\"\\n\" + f\"{caixa}\" + \"\\n\")\n",
    "\n",
    "for i in range(len(lista_clientes)+1):\n",
    "    prox_cliente_caixa = caixa.proximo_cliente()\n",
    "    print(\"Proximo cliente a ser atendido :\\n\" + f\"        {prox_cliente_caixa}\")\n",
    "    print(f\"{caixa}\" + \"\\n\")"
   ]
  },
  {
   "cell_type": "markdown",
   "metadata": {},
   "source": [
    "**Pergunta:** você usou uma fila de prioridade por meio de um Heap. Por que esta solução seria mais eficiente que uma lista ordenada ou não ordenda? Responda abaixo de forma completa, justificando por meio da complexidade e também apresentando o porquê que a complexidade é menor/maior em uma determinada estrutura de dados. \n",
    "\n",
    "A celula abaixo é de texto. Clique duas vezes, escreve e, logo após, pressione `ctrl+enter`."
   ]
  },
  {
   "cell_type": "markdown",
   "metadata": {},
   "source": [
    "A solução por meio de uma fila de prioridade utilizando um heap seria mais eficiente que uma lista ordenada ou não ordenada pelo fato de que suas operações são mais consistentes independentemente da operação realizada. Isto é, no heap, independentemente de qual operação que preciso realizar (inserção, remoção, substituir e alterar) são todos de complexidade O(nlogn), enquanto que nos outros métodos de lista o valor depende de qual operação é necessária se realizar. No método de lista ordenada, por exemplo, as operações de inserir e juntar a lista possuem complexidade O(n) e no caso da lista não ordenada a operação de remocão e de ajuntar por meio de arranjos são de complexidade O(n) também. No caso da lista ordenada, para se inserir algum item, é preciso mover a lista inteira para adicionar um item, no melhor caso precisa apenas inseri-lo no final da lista, mas ainda sim precisaria de verificar a lista inteira para descobrir onde o item se encaixa. No caso da retirada na lista não ordenada, é preciso procurar na lista pelo item desejado e após isso, deve-se mover a lista inteira para ocupar o espaço retirado. Portanto, mesmo que O(nlogn) seja maior que a complexidade O(n), a sua consistencia no tempo é um ponto positivo para a eficiencia de funcionamento da fila de prioridade."
   ]
  }
 ],
 "metadata": {
  "kernelspec": {
   "display_name": "Python 3",
   "language": "python",
   "name": "python3"
  },
  "language_info": {
   "codemirror_mode": {
    "name": "ipython",
    "version": 3
   },
   "file_extension": ".py",
   "mimetype": "text/x-python",
   "name": "python",
   "nbconvert_exporter": "python",
   "pygments_lexer": "ipython3",
   "version": "3.9.1"
  }
 },
 "nbformat": 4,
 "nbformat_minor": 2
}
